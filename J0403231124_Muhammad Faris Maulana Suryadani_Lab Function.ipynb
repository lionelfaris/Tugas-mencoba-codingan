{
 "cells": [
  {
   "cell_type": "code",
   "execution_count": 4,
   "metadata": {},
   "outputs": [
    {
     "data": {
      "text/plain": [
       "'\\nNama : Muhammad Faris Maulana Suryadani\\nNIM : J0403231124\\nEmail : farissuryadani@apps.ipb.ac.id\\n'"
      ]
     },
     "execution_count": 4,
     "metadata": {},
     "output_type": "execute_result"
    }
   ],
   "source": [
    "'''\n",
    "Nama : Muhammad Faris Maulana Suryadani\n",
    "NIM : J0403231124\n",
    "Email : farissuryadani@apps.ipb.ac.id\n",
    "'''"
   ]
  },
  {
   "cell_type": "code",
   "execution_count": 5,
   "metadata": {},
   "outputs": [
    {
     "name": "stdout",
     "output_type": "stream",
     "text": [
      "My fun function\n"
     ]
    }
   ],
   "source": [
    "#define function\n",
    "def fun():\n",
    "    print (\"My fun function\")\n",
    "#call function\n",
    "fun()"
   ]
  },
  {
   "cell_type": "code",
   "execution_count": 6,
   "metadata": {},
   "outputs": [
    {
     "name": "stdout",
     "output_type": "stream",
     "text": [
      "3\n"
     ]
    }
   ],
   "source": [
    "#Page 2 ; Parameters & Arguments\n",
    "\n",
    "#Here a,b, are the parameters\n",
    "def sum(a,b) :\n",
    "    print (a + b)\n",
    "sum (1,2)"
   ]
  },
  {
   "cell_type": "code",
   "execution_count": 7,
   "metadata": {},
   "outputs": [
    {
     "name": "stdout",
     "output_type": "stream",
     "text": [
      "Hello, Alice!\n"
     ]
    }
   ],
   "source": [
    "#Page 3 ; Arguments - Positional\n",
    "\n",
    "def greet (name, greeting) :\n",
    "    print (f\"{greeting}, {name}!\")\n",
    "\n",
    "greet(\"Alice\", \"Hello\") # \"Hello, Alice!\""
   ]
  },
  {
   "cell_type": "code",
   "execution_count": 8,
   "metadata": {},
   "outputs": [
    {
     "name": "stdout",
     "output_type": "stream",
     "text": [
      "Hi, Bob!\n"
     ]
    }
   ],
   "source": [
    "#Page 4 ; Arguments - Keyword\n",
    "\n",
    "def greet (name, greeting) :\n",
    "    print (f\"{greeting}, {name}!\")\n",
    "    \n",
    "greet(greeting=\"Hi\", name=\"Bob\") #\"Hi, Bob!\""
   ]
  },
  {
   "cell_type": "code",
   "execution_count": 9,
   "metadata": {},
   "outputs": [
    {
     "name": "stdout",
     "output_type": "stream",
     "text": [
      "Hello, Eve!\n"
     ]
    }
   ],
   "source": [
    "#Page 5 ; Arguments - Default\n",
    "\n",
    "def greet(name, greeting=\"Hello\") :\n",
    "    print(f\"{greeting}, {name}!\")\n",
    "\n",
    "greet(\"Eve\") # \"Hello, Eve!\""
   ]
  },
  {
   "cell_type": "code",
   "execution_count": 11,
   "metadata": {},
   "outputs": [
    {
     "name": "stdout",
     "output_type": "stream",
     "text": [
      "1\n",
      "apple\n",
      "True\n"
     ]
    }
   ],
   "source": [
    "#Page 6 ; Arguments - Arbitrary - *args\n",
    "\n",
    "def print_args(*args) :\n",
    "    for arg in args :\n",
    "        print (arg)\n",
    "        \n",
    "print_args(1, \"apple\", True) #1\\n\"apple\"\\nTrue"
   ]
  },
  {
   "cell_type": "code",
   "execution_count": 13,
   "metadata": {},
   "outputs": [
    {
     "name": "stdout",
     "output_type": "stream",
     "text": [
      "name:Alice\n",
      "age:30\n"
     ]
    }
   ],
   "source": [
    "#Page 7 ; Arguments - Arbitrary - *kwargs\n",
    "def print_kwargs(**kwargs) :\n",
    "    for key, value in kwargs.items() :\n",
    "        print (f\"{key}:{value}\")\n",
    "        \n",
    "print_kwargs(name=\"Alice\", age=30) #\"name: Alice\"\\n\"age:30\""
   ]
  },
  {
   "cell_type": "code",
   "execution_count": 14,
   "metadata": {},
   "outputs": [
    {
     "name": "stdout",
     "output_type": "stream",
     "text": [
      "1\n",
      "2\n",
      "3\n",
      "4\n",
      "name: Bob\n",
      "age: 25\n"
     ]
    }
   ],
   "source": [
    "#Page 13 ; Arguments - Passing Lists/Dictionaries/etc.\n",
    "def print_list(numbers):\n",
    "    for num in numbers:\n",
    "        print(num)\n",
    "\n",
    "print_list([1, 2, 3, 4]) # 1\\n2\\n3\\n4\n",
    "\n",
    "def print_dict(my_dict):\n",
    "    for key, value in my_dict.items():\n",
    "        print(f\"{key}: {value}\")\n",
    "\n",
    "print_dict({\"name\": \"Bob\", \"age\": 25}) # Output: \"name: Bob\"\\n\"age: 25\""
   ]
  },
  {
   "cell_type": "code",
   "execution_count": 15,
   "metadata": {},
   "outputs": [
    {
     "name": "stdout",
     "output_type": "stream",
     "text": [
      "a: 1\n",
      "b: (2, 3)\n",
      "c: 6\n",
      "d: {'x': 4, 'y': 5}\n",
      "a: 1\n",
      "b: (2, 3)\n",
      "c: 7\n",
      "d: {'x': 4, 'y': 5}\n"
     ]
    }
   ],
   "source": [
    "#Page 14 ; Different argument combinations\n",
    "def f(a, *b, c=6, **d): # compare it with def f(a, b=6, *c, **d)\n",
    "    print(f\"a: {a}\")\n",
    "    print(f\"b: {b}\")\n",
    "    print(f\"c: {c}\")\n",
    "    print(f\"d: {d}\")\n",
    "\n",
    "f(1, 2, 3, x=4, y=5) # Default used\n",
    "f(1, 2, 3, c=7, x=4, y=5) # Override default"
   ]
  },
  {
   "cell_type": "code",
   "execution_count": 16,
   "metadata": {},
   "outputs": [
    {
     "name": "stdout",
     "output_type": "stream",
     "text": [
      "The sum is: 8\n"
     ]
    }
   ],
   "source": [
    "#Page 16 ; Return Statements - Examples\n",
    " \n",
    "def add_numbers(a, b):\n",
    "    \"\"\"This function adds two numbers and\n",
    "returns the result.\"\"\"\n",
    "    result = a + b\n",
    "    return result\n",
    "\n",
    "# Call the function with a return value\n",
    "sum_result = add_numbers(5, 3)\n",
    "print(f\"The sum is: {sum_result}\")"
   ]
  },
  {
   "cell_type": "code",
   "execution_count": 17,
   "metadata": {},
   "outputs": [
    {
     "name": "stdout",
     "output_type": "stream",
     "text": [
      "Hello, Alice!\n"
     ]
    }
   ],
   "source": [
    "#Page 16 ; Return Statements - Examples\n",
    "def greet(name):\n",
    "    \"\"\"This function greets the person passed in as a\n",
    "parameter.\"\"\"\n",
    "    print(f\"Hello, {name}!\")\n",
    "\n",
    "# Call the function without a return value\n",
    "greet(\"Alice\")"
   ]
  },
  {
   "cell_type": "code",
   "execution_count": 20,
   "metadata": {},
   "outputs": [
    {
     "name": "stdout",
     "output_type": "stream",
     "text": [
      "Hello, World!\n",
      "Hello, Python!\n"
     ]
    }
   ],
   "source": [
    "#Page 18 ; It is executed at runtime\n",
    "if 'a' == 'a' :\n",
    "    def greet() :\n",
    "        return \"Hello, World!\"\n",
    "else :\n",
    "    def greet():\n",
    "        return \"Hi, there!\"\n",
    "    \n",
    "def say_hello():\n",
    "    print(\"Hello, World!\")\n",
    "\n",
    "greeting = say_hello # Assigning the function to a different name\n",
    "greeting() # Calls the function\n",
    "\n",
    "def say_hello():\n",
    "    print(\"Hello, Python!\")\n",
    "\n",
    "say_hello() # Calls the updated function"
   ]
  },
  {
   "cell_type": "code",
   "execution_count": 22,
   "metadata": {},
   "outputs": [
    {
     "name": "stdout",
     "output_type": "stream",
     "text": [
      "After function creation\n"
     ]
    },
    {
     "ename": "ZeroDivisionError",
     "evalue": "division by zero",
     "output_type": "error",
     "traceback": [
      "\u001b[1;31m---------------------------------------------------------------------------\u001b[0m",
      "\u001b[1;31mZeroDivisionError\u001b[0m                         Traceback (most recent call last)",
      "\u001b[1;32mUntitled-1.ipynb Cell 14\u001b[0m line \u001b[0;36m8\n\u001b[0;32m      <a href='vscode-notebook-cell:Untitled-1.ipynb?jupyter-notebook#X20sdW50aXRsZWQ%3D?line=4'>5</a>\u001b[0m \u001b[39mprint\u001b[39m (\u001b[39m\"\u001b[39m\u001b[39mAfter function creation\u001b[39m\u001b[39m\"\u001b[39m)\n\u001b[0;32m      <a href='vscode-notebook-cell:Untitled-1.ipynb?jupyter-notebook#X20sdW50aXRsZWQ%3D?line=6'>7</a>\u001b[0m \u001b[39m#it's not error until executed\u001b[39;00m\n\u001b[1;32m----> <a href='vscode-notebook-cell:Untitled-1.ipynb?jupyter-notebook#X20sdW50aXRsZWQ%3D?line=7'>8</a>\u001b[0m result \u001b[39m=\u001b[39m divide_by_zero(\u001b[39m5\u001b[39;49m) \u001b[39m#comment this and see the differences\u001b[39;00m\n\u001b[0;32m      <a href='vscode-notebook-cell:Untitled-1.ipynb?jupyter-notebook#X20sdW50aXRsZWQ%3D?line=8'>9</a>\u001b[0m \u001b[39mprint\u001b[39m(\u001b[39m\"\u001b[39m\u001b[39mAfter function is called/executed\u001b[39m\u001b[39m\"\u001b[39m)\n",
      "\u001b[1;32mUntitled-1.ipynb Cell 14\u001b[0m line \u001b[0;36m3\n\u001b[0;32m      <a href='vscode-notebook-cell:Untitled-1.ipynb?jupyter-notebook#X20sdW50aXRsZWQ%3D?line=1'>2</a>\u001b[0m \u001b[39mdef\u001b[39;00m \u001b[39mdivide_by_zero\u001b[39m(a) :\n\u001b[1;32m----> <a href='vscode-notebook-cell:Untitled-1.ipynb?jupyter-notebook#X20sdW50aXRsZWQ%3D?line=2'>3</a>\u001b[0m     \u001b[39mreturn\u001b[39;00m a \u001b[39m*\u001b[39;49m \u001b[39m2\u001b[39;49m \u001b[39m/\u001b[39;49m (a\u001b[39m-\u001b[39;49ma)\n",
      "\u001b[1;31mZeroDivisionError\u001b[0m: division by zero"
     ]
    }
   ],
   "source": [
    "#Page 19 ; It is executed at runtime \n",
    "def divide_by_zero(a) :\n",
    "    return a * 2 / (a-a)  #this is a bug\n",
    "\n",
    "print (\"After function creation\")\n",
    "\n",
    "#it's not error until executed\n",
    "result = divide_by_zero(5) #comment this and see the differences\n",
    "print(\"After function is called/executed\")\n",
    "\n"
   ]
  },
  {
   "cell_type": "code",
   "execution_count": 23,
   "metadata": {},
   "outputs": [
    {
     "name": "stdout",
     "output_type": "stream",
     "text": [
      "Hello, Alice!\n"
     ]
    }
   ],
   "source": [
    "#Page 20 ; It is first class object \n",
    "\n",
    "def greet(name):\n",
    "    return f\"Hello, {name}!\"\n",
    "\n",
    "# Assign the function to a variable\n",
    "my_function = greet\n",
    "\n",
    "# Call the function using the variable\n",
    "result = my_function(\"Alice\")\n",
    "print(result) # Output: Hello, Alice!"
   ]
  },
  {
   "cell_type": "code",
   "execution_count": 24,
   "metadata": {},
   "outputs": [
    {
     "name": "stdout",
     "output_type": "stream",
     "text": [
      "25\n"
     ]
    }
   ],
   "source": [
    "#Page 21 ; It is first class object - another examples\n",
    "\n",
    "def apply(func, x):\n",
    "    return func(x)\n",
    "\n",
    "def square(x):\n",
    "    return x * x\n",
    "\n",
    "result = apply(square, 5)\n",
    "print(result) # Output: 25"
   ]
  },
  {
   "cell_type": "code",
   "execution_count": 25,
   "metadata": {},
   "outputs": [
    {
     "name": "stdout",
     "output_type": "stream",
     "text": [
      "10\n",
      "15\n"
     ]
    }
   ],
   "source": [
    "#Page 22 ; It is first class object - another examples\n",
    "\n",
    "def get_multiplier(factor):\n",
    "    def multiplier(x):\n",
    "        return x * factor\n",
    "    return multiplier\n",
    "\n",
    "double = get_multiplier(2)\n",
    "triple = get_multiplier(3)\n",
    "\n",
    "print(double(5)) # Output: 10\n",
    "print(triple(5)) # Output: 15"
   ]
  },
  {
   "cell_type": "code",
   "execution_count": 26,
   "metadata": {},
   "outputs": [
    {
     "name": "stdout",
     "output_type": "stream",
     "text": [
      "13\n"
     ]
    }
   ],
   "source": [
    "#Page 24 ; Scope - Examples\n",
    "\n",
    "def my_function() :\n",
    "    x = 10 #x is in the local scope\n",
    "    print (x)\n",
    "    \n",
    "def outer_functioin():\n",
    "    y = 20 #y is in the enclosing scope\n",
    "    def inner_function():\n",
    "        print(y) #inner_function can access z from the global scope\n",
    "        \n",
    "print (len(\"Hello, World!\")) #len is a built-in function"
   ]
  },
  {
   "cell_type": "code",
   "execution_count": 27,
   "metadata": {},
   "outputs": [
    {
     "name": "stdout",
     "output_type": "stream",
     "text": [
      "20\n"
     ]
    }
   ],
   "source": [
    "#Page 25 ; Scope - Global keyword \n",
    "global_var = 10 #Global variable\n",
    "\n",
    "def modify_global():\n",
    "    global global_var #use the global keyword to modify the global variable\n",
    "    global_var = 20\n",
    "    \n",
    "modify_global()\n",
    "print (global_var) #This will print the modified global variable, which is 20"
   ]
  },
  {
   "cell_type": "code",
   "execution_count": 30,
   "metadata": {},
   "outputs": [
    {
     "name": "stdout",
     "output_type": "stream",
     "text": [
      "[1, 2, 3, 4]\n"
     ]
    }
   ],
   "source": [
    "#Page 26 ; Pass by object reference\n",
    "def modify_list(my_list):\n",
    "    my_list.append(4) #Modifying the list inside the function\n",
    "    \n",
    "my_list = [1, 2, 3]\n",
    "modify_list(my_list)\n",
    "print (my_list) #Output : [1,2,3,4]\n",
    "\n",
    "def reassign_list(my_list) :\n",
    "    my_list = [4,5,6] #Reassigning the list into a new object\n",
    "    \n",
    "    my_list = [1, 2, 3]\n",
    "    reassign_list(my_list)\n",
    "    print(my_list) #output : "
   ]
  },
  {
   "cell_type": "code",
   "execution_count": 31,
   "metadata": {},
   "outputs": [
    {
     "name": "stdout",
     "output_type": "stream",
     "text": [
      "5\n"
     ]
    }
   ],
   "source": [
    "#Page 27 ; Pass by Object Reference \n",
    "def modify_integer(x):\n",
    "    x += 1 # Modifying the integer inside the function\n",
    "\n",
    "my_integer = 5\n",
    "modify_integer(my_integer)\n",
    "print(my_integer) # Output: 5"
   ]
  },
  {
   "cell_type": "code",
   "execution_count": 32,
   "metadata": {},
   "outputs": [
    {
     "name": "stdout",
     "output_type": "stream",
     "text": [
      "100\n"
     ]
    }
   ],
   "source": [
    "#Page 28 ; Function Overloading\n",
    "\n",
    "def product(a, b):\n",
    "    print(a * b)\n",
    "\n",
    "def product(a, b, c):\n",
    "    print(a * b * c)\n",
    "\n",
    "# product(4, 5) # Uncommenting this shows an error\n",
    "\n",
    "product(4, 5, 5) # This line will call the last function\n",
    "\n",
    "# Try using *args to solve that problem"
   ]
  },
  {
   "cell_type": "code",
   "execution_count": 33,
   "metadata": {},
   "outputs": [
    {
     "name": "stdout",
     "output_type": "stream",
     "text": [
      "120\n"
     ]
    }
   ],
   "source": [
    "#Page 29 ; Function Recursion\n",
    "\n",
    "def factorial(n):\n",
    "    if n == 0:\n",
    "        return 1\n",
    "    else:\n",
    "        return n * factorial(n - 1)\n",
    "\n",
    "result = factorial(5)\n",
    "print(result) # Output: 120"
   ]
  },
  {
   "cell_type": "code",
   "execution_count": 35,
   "metadata": {},
   "outputs": [
    {
     "name": "stdout",
     "output_type": "stream",
     "text": [
      "Division operation complete\n",
      "5.0\n",
      "Error: Division by zero\n",
      "Division operation complete\n",
      "None\n",
      "Error: Invalid data types\n",
      "Division operation complete\n",
      "None\n"
     ]
    }
   ],
   "source": [
    "#Page 31 ; Error Handling - Examples\n",
    "\n",
    "def divide(x, y):\n",
    "    try:\n",
    "        result = x / y\n",
    "    except ZeroDivisionError:\n",
    "        print(\"Error: Division by zero\")\n",
    "        return None\n",
    "    except TypeError:\n",
    "        print(\"Error: Invalid data types\")\n",
    "        return None\n",
    "    except Exception as e:\n",
    "        print(f\"An unexpected error occurred: {e}\")\n",
    "        return None\n",
    "    else:\n",
    "        return result\n",
    "    finally:\n",
    "        print(\"Division operation complete\")\n",
    "# Example usages\n",
    "print(divide(10, 2)) # Output: 5.0\n",
    "print(divide(10, 0)) # Output: Error: Division by zero\\nDivision operation complete\\nNone\n",
    "print(divide(\"10\", 0)) # Output: Error: Invalid data types\\nDivision operation complete\\nNone\n",
    "\n"
   ]
  },
  {
   "cell_type": "code",
   "execution_count": 37,
   "metadata": {},
   "outputs": [
    {
     "name": "stdout",
     "output_type": "stream",
     "text": [
      "Help on function add in module __main__:\n",
      "\n",
      "add(a, b)\n",
      "    This function adds two numbers together.\n",
      "    Args:\n",
      "        a (int): The first number to be added.\n",
      "        b (int): The second number to be added.\n",
      "    Returns:\n",
      "        int: The sum of the two input numbers.\n",
      "    Example:\n",
      "        >>> add(3, 4)\n",
      "        7\n",
      "\n"
     ]
    }
   ],
   "source": [
    "def add(a, b):\n",
    "    \"\"\"\n",
    "    This function adds two numbers together.\n",
    "    Args:\n",
    "        a (int): The first number to be added.\n",
    "        b (int): The second number to be added.\n",
    "    Returns:\n",
    "        int: The sum of the two input numbers.\n",
    "    Example:\n",
    "        >>> add(3, 4)\n",
    "        7\n",
    "    \"\"\"\n",
    "    return a + b\n",
    "\n",
    "help(add) # Displays the docstring"
   ]
  }
 ],
 "metadata": {
  "kernelspec": {
   "display_name": "Python 3",
   "language": "python",
   "name": "python3"
  },
  "language_info": {
   "codemirror_mode": {
    "name": "ipython",
    "version": 3
   },
   "file_extension": ".py",
   "mimetype": "text/x-python",
   "name": "python",
   "nbconvert_exporter": "python",
   "pygments_lexer": "ipython3",
   "version": "3.11.5"
  }
 },
 "nbformat": 4,
 "nbformat_minor": 2
}
